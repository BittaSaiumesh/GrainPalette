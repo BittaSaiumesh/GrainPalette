{
 "cells": [
  {
   "cell_type": "code",
   "execution_count": null,
   "id": "59dc6131-25dd-4175-bc20-5283757b8747",
   "metadata": {},
   "outputs": [],
   "source": []
  }
 ],
 "metadata": {
  "kernelspec": {
   "display_name": "",
   "name": ""
  },
  "language_info": {
   "name": ""
  }
 },
 "nbformat": 4,
 "nbformat_minor": 5
}
