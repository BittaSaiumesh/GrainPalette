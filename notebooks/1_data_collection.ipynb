{
 "cells": [
  {
   "cell_type": "code",
   "execution_count": 2,
   "id": "7df999da-99f9-4a13-9842-d017663fb644",
   "metadata": {},
   "outputs": [
    {
     "ename": "FileNotFoundError",
     "evalue": "[WinError 3] The system cannot find the path specified: 'data/Rice_Image_Dataset'",
     "output_type": "error",
     "traceback": [
      "\u001b[1;31m---------------------------------------------------------------------------\u001b[0m",
      "\u001b[1;31mFileNotFoundError\u001b[0m                         Traceback (most recent call last)",
      "Cell \u001b[1;32mIn[2], line 7\u001b[0m\n\u001b[0;32m      4\u001b[0m dataset_path \u001b[38;5;241m=\u001b[39m \u001b[38;5;124m\"\u001b[39m\u001b[38;5;124mdata/Rice_Image_Dataset\u001b[39m\u001b[38;5;124m\"\u001b[39m\n\u001b[0;32m      6\u001b[0m \u001b[38;5;66;03m# List all class folders\u001b[39;00m\n\u001b[1;32m----> 7\u001b[0m classes \u001b[38;5;241m=\u001b[39m os\u001b[38;5;241m.\u001b[39mlistdir(dataset_path)\n\u001b[0;32m      8\u001b[0m \u001b[38;5;28mprint\u001b[39m(\u001b[38;5;124m\"\u001b[39m\u001b[38;5;124mClasses found:\u001b[39m\u001b[38;5;124m\"\u001b[39m, classes)\n\u001b[0;32m     10\u001b[0m \u001b[38;5;66;03m# Count number of images per class\u001b[39;00m\n",
      "\u001b[1;31mFileNotFoundError\u001b[0m: [WinError 3] The system cannot find the path specified: 'data/Rice_Image_Dataset'"
     ]
    }
   ],
   "source": [
    "import os\n",
    "\n",
    "# Path to dataset\n",
    "dataset_path = \"data/Rice_Image_Dataset\"\n",
    "\n",
    "# List all class folders\n",
    "classes = os.listdir(dataset_path)\n",
    "print(\"Classes found:\", classes)\n",
    "\n",
    "# Count number of images per class\n",
    "for rice_class in classes:\n",
    "    class_path = os.path.join(dataset_path, rice_class)\n",
    "    num_images = len(os.listdir(class_path))\n",
    "    print(f\"{rice_class}: {num_images} images\")\n"
   ]
  },
  {
   "cell_type": "code",
   "execution_count": null,
   "id": "04e709ea-9ce0-4742-bae9-d6e174f8ab26",
   "metadata": {},
   "outputs": [],
   "source": []
  },
  {
   "cell_type": "code",
   "execution_count": 3,
   "id": "92af80be-682a-4034-8132-606b49631b2b",
   "metadata": {},
   "outputs": [
    {
     "ename": "FileNotFoundError",
     "evalue": "[WinError 3] The system cannot find the path specified: 'data/Rice_Image_Dataset'",
     "output_type": "error",
     "traceback": [
      "\u001b[1;31m---------------------------------------------------------------------------\u001b[0m",
      "\u001b[1;31mFileNotFoundError\u001b[0m                         Traceback (most recent call last)",
      "Cell \u001b[1;32mIn[3], line 7\u001b[0m\n\u001b[0;32m      4\u001b[0m dataset_path \u001b[38;5;241m=\u001b[39m \u001b[38;5;124m\"\u001b[39m\u001b[38;5;124mdata/Rice_Image_Dataset\u001b[39m\u001b[38;5;124m\"\u001b[39m\n\u001b[0;32m      6\u001b[0m \u001b[38;5;66;03m# List all class folders\u001b[39;00m\n\u001b[1;32m----> 7\u001b[0m classes \u001b[38;5;241m=\u001b[39m os\u001b[38;5;241m.\u001b[39mlistdir(dataset_path)\n\u001b[0;32m      8\u001b[0m \u001b[38;5;28mprint\u001b[39m(\u001b[38;5;124m\"\u001b[39m\u001b[38;5;124mClasses found:\u001b[39m\u001b[38;5;124m\"\u001b[39m, classes)\n\u001b[0;32m     10\u001b[0m \u001b[38;5;66;03m# Count number of images per class\u001b[39;00m\n",
      "\u001b[1;31mFileNotFoundError\u001b[0m: [WinError 3] The system cannot find the path specified: 'data/Rice_Image_Dataset'"
     ]
    }
   ],
   "source": [
    "import os\n",
    "\n",
    "# Path to dataset\n",
    "dataset_path = \"data/Rice_Image_Dataset\"\n",
    "\n",
    "# List all class folders\n",
    "classes = os.listdir(dataset_path)\n",
    "print(\"Classes found:\", classes)\n",
    "\n",
    "# Count number of images per class\n",
    "for rice_class in classes:\n",
    "    class_path = os.path.join(dataset_path, rice_class)\n",
    "    num_images = len(os.listdir(class_path))\n",
    "    print(f\"{rice_class}: {num_images} images\")"
   ]
  },
  {
   "cell_type": "code",
   "execution_count": 4,
   "id": "2b2fda18-41d2-4d1f-8a79-e89137e738d4",
   "metadata": {},
   "outputs": [
    {
     "name": "stdout",
     "output_type": "stream",
     "text": [
      "Absolute path: C:\\Users\\saium\\GrainPalatte\\notebooks\\data\\Rice_Image_Dataset\n",
      "Exists? False\n"
     ]
    }
   ],
   "source": [
    "import os\n",
    "\n",
    "dataset_path = \"data/Rice_Image_Dataset\"\n",
    "print(\"Absolute path:\", os.path.abspath(dataset_path))\n",
    "print(\"Exists?\", os.path.exists(dataset_path))\n"
   ]
  },
  {
   "cell_type": "code",
   "execution_count": 5,
   "id": "1c4e4228-63ad-47dc-8fd1-7bf64e7e6ce2",
   "metadata": {},
   "outputs": [
    {
     "name": "stdout",
     "output_type": "stream",
     "text": [
      "Absolute path: C:\\Users\\saium\\GrainPalatte\\data\\Rice_Image_Dataset\n",
      "Exists? True\n"
     ]
    }
   ],
   "source": [
    "import os\n",
    "\n",
    "dataset_path = \"../data/Rice_Image_Dataset\"\n",
    "print(\"Absolute path:\", os.path.abspath(dataset_path))\n",
    "print(\"Exists?\", os.path.exists(dataset_path))\n"
   ]
  },
  {
   "cell_type": "code",
   "execution_count": 6,
   "id": "14f30490-8813-443f-a726-9c4b69e66536",
   "metadata": {},
   "outputs": [
    {
     "name": "stdout",
     "output_type": "stream",
     "text": [
      "Classes found: ['Arborio', 'Basmati', 'Ipsala', 'Jasmine', 'Karacadag', 'Rice_Citation_Request.txt']\n"
     ]
    }
   ],
   "source": [
    "import os\n",
    "\n",
    "dataset_path = \"../data/Rice_Image_Dataset\"  # you already confirmed this works\n",
    "\n",
    "# List class folders\n",
    "classes = os.listdir(dataset_path)\n",
    "print(\"Classes found:\", classes)\n"
   ]
  },
  {
   "cell_type": "code",
   "execution_count": 7,
   "id": "5af7e090-3901-43ac-81ed-dcb8eef9cb1b",
   "metadata": {},
   "outputs": [
    {
     "name": "stdout",
     "output_type": "stream",
     "text": [
      "Arborio: 15000 images\n",
      "Basmati: 15000 images\n",
      "Ipsala: 15000 images\n",
      "Jasmine: 15000 images\n",
      "Karacadag: 15000 images\n"
     ]
    },
    {
     "ename": "NotADirectoryError",
     "evalue": "[WinError 267] The directory name is invalid: '../data/Rice_Image_Dataset\\\\Rice_Citation_Request.txt'",
     "output_type": "error",
     "traceback": [
      "\u001b[1;31m---------------------------------------------------------------------------\u001b[0m",
      "\u001b[1;31mNotADirectoryError\u001b[0m                        Traceback (most recent call last)",
      "Cell \u001b[1;32mIn[7], line 3\u001b[0m\n\u001b[0;32m      1\u001b[0m \u001b[38;5;28;01mfor\u001b[39;00m rice_class \u001b[38;5;129;01min\u001b[39;00m classes:\n\u001b[0;32m      2\u001b[0m     class_path \u001b[38;5;241m=\u001b[39m os\u001b[38;5;241m.\u001b[39mpath\u001b[38;5;241m.\u001b[39mjoin(dataset_path, rice_class)\n\u001b[1;32m----> 3\u001b[0m     images \u001b[38;5;241m=\u001b[39m os\u001b[38;5;241m.\u001b[39mlistdir(class_path)\n\u001b[0;32m      4\u001b[0m     \u001b[38;5;28mprint\u001b[39m(\u001b[38;5;124mf\u001b[39m\u001b[38;5;124m\"\u001b[39m\u001b[38;5;132;01m{\u001b[39;00mrice_class\u001b[38;5;132;01m}\u001b[39;00m\u001b[38;5;124m: \u001b[39m\u001b[38;5;132;01m{\u001b[39;00m\u001b[38;5;28mlen\u001b[39m(images)\u001b[38;5;132;01m}\u001b[39;00m\u001b[38;5;124m images\u001b[39m\u001b[38;5;124m\"\u001b[39m)\n",
      "\u001b[1;31mNotADirectoryError\u001b[0m: [WinError 267] The directory name is invalid: '../data/Rice_Image_Dataset\\\\Rice_Citation_Request.txt'"
     ]
    }
   ],
   "source": [
    "for rice_class in classes:\n",
    "    class_path = os.path.join(dataset_path, rice_class)\n",
    "    images = os.listdir(class_path)\n",
    "    print(f\"{rice_class}: {len(images)} images\")\n"
   ]
  },
  {
   "cell_type": "code",
   "execution_count": 8,
   "id": "b5eaae7b-cd80-4a81-a9c2-7566d5960624",
   "metadata": {},
   "outputs": [
    {
     "name": "stdout",
     "output_type": "stream",
     "text": [
      "Valid Classes: ['Arborio', 'Basmati', 'Ipsala', 'Jasmine', 'Karacadag']\n"
     ]
    }
   ],
   "source": [
    "import os\n",
    "\n",
    "dataset_path = \"../data/Rice_Image_Dataset\"\n",
    "\n",
    "# Only keep actual folders (exclude files like .txt)\n",
    "classes = [item for item in os.listdir(dataset_path) if os.path.isdir(os.path.join(dataset_path, item))]\n",
    "print(\"Valid Classes:\", classes)\n"
   ]
  },
  {
   "cell_type": "code",
   "execution_count": 9,
   "id": "7548ba54-81fd-491b-983e-7d0a4a878f86",
   "metadata": {},
   "outputs": [
    {
     "name": "stdout",
     "output_type": "stream",
     "text": [
      "Arborio: 15000 images\n",
      "Basmati: 15000 images\n",
      "Ipsala: 15000 images\n",
      "Jasmine: 15000 images\n",
      "Karacadag: 15000 images\n"
     ]
    }
   ],
   "source": [
    "for rice_class in classes:\n",
    "    class_path = os.path.join(dataset_path, rice_class)\n",
    "    images = os.listdir(class_path)\n",
    "    print(f\"{rice_class}: {len(images)} images\")\n"
   ]
  },
  {
   "cell_type": "code",
   "execution_count": 1,
   "id": "ed193ce3-4cd0-4dff-b03a-0d0f1fd60251",
   "metadata": {},
   "outputs": [
    {
     "ename": "NameError",
     "evalue": "name 'classes' is not defined",
     "output_type": "error",
     "traceback": [
      "\u001b[1;31m---------------------------------------------------------------------------\u001b[0m",
      "\u001b[1;31mNameError\u001b[0m                                 Traceback (most recent call last)",
      "Cell \u001b[1;32mIn[1], line 4\u001b[0m\n\u001b[0;32m      1\u001b[0m \u001b[38;5;28;01mfrom\u001b[39;00m \u001b[38;5;21;01mPIL\u001b[39;00m \u001b[38;5;28;01mimport\u001b[39;00m Image\n\u001b[0;32m      2\u001b[0m \u001b[38;5;28;01mimport\u001b[39;00m \u001b[38;5;21;01mmatplotlib\u001b[39;00m\u001b[38;5;21;01m.\u001b[39;00m\u001b[38;5;21;01mpyplot\u001b[39;00m \u001b[38;5;28;01mas\u001b[39;00m \u001b[38;5;21;01mplt\u001b[39;00m\n\u001b[1;32m----> 4\u001b[0m sample_class \u001b[38;5;241m=\u001b[39m \u001b[43mclasses\u001b[49m[\u001b[38;5;241m0\u001b[39m]\n\u001b[0;32m      5\u001b[0m sample_image_path \u001b[38;5;241m=\u001b[39m os\u001b[38;5;241m.\u001b[39mpath\u001b[38;5;241m.\u001b[39mjoin(dataset_path, sample_class, os\u001b[38;5;241m.\u001b[39mlistdir(os\u001b[38;5;241m.\u001b[39mpath\u001b[38;5;241m.\u001b[39mjoin(dataset_path, sample_class))[\u001b[38;5;241m0\u001b[39m])\n\u001b[0;32m      7\u001b[0m img \u001b[38;5;241m=\u001b[39m Image\u001b[38;5;241m.\u001b[39mopen(sample_image_path)\n",
      "\u001b[1;31mNameError\u001b[0m: name 'classes' is not defined"
     ]
    }
   ],
   "source": [
    "from PIL import Image\n",
    "import matplotlib.pyplot as plt\n",
    "\n",
    "sample_class = classes[0]\n",
    "sample_image_path = os.path.join(dataset_path, sample_class, os.listdir(os.path.join(dataset_path, sample_class))[0])\n",
    "\n",
    "img = Image.open(sample_image_path)\n",
    "plt.imshow(img)\n",
    "plt.title(f\"Sample from {sample_class}\")\n",
    "plt.axis('off')\n",
    "plt.show()\n"
   ]
  },
  {
   "cell_type": "code",
   "execution_count": 2,
   "id": "1e841510-1e78-44a4-88ba-0d5cdc248a5b",
   "metadata": {},
   "outputs": [
    {
     "name": "stdout",
     "output_type": "stream",
     "text": [
      "Valid Classes: ['Arborio', 'Basmati', 'Ipsala', 'Jasmine', 'Karacadag']\n"
     ]
    }
   ],
   "source": [
    "import os\n",
    "\n",
    "dataset_path = \"../data/Rice_Image_Dataset\"\n",
    "\n",
    "# Only keep actual folders (exclude files like .txt)\n",
    "classes = [item for item in os.listdir(dataset_path) if os.path.isdir(os.path.join(dataset_path, item))]\n",
    "print(\"Valid Classes:\", classes)"
   ]
  },
  {
   "cell_type": "code",
   "execution_count": 3,
   "id": "d4a4af40-9020-4bea-ba49-3a45a2d8b7d1",
   "metadata": {},
   "outputs": [
    {
     "name": "stdout",
     "output_type": "stream",
     "text": [
      "Arborio: 15000 images\n",
      "Basmati: 15000 images\n",
      "Ipsala: 15000 images\n",
      "Jasmine: 15000 images\n",
      "Karacadag: 15000 images\n"
     ]
    }
   ],
   "source": [
    "for rice_class in classes:\n",
    "    class_path = os.path.join(dataset_path, rice_class)\n",
    "    images = os.listdir(class_path)\n",
    "    print(f\"{rice_class}: {len(images)} images\")"
   ]
  },
  {
   "cell_type": "code",
   "execution_count": 4,
   "id": "670610c9-4b4d-4278-9d19-926681e2eb64",
   "metadata": {},
   "outputs": [
    {
     "data": {
      "image/png": "[encoded data removed]",
      "text/plain": [
       "<Figure size 640x480 with 1 Axes>"
      ]
     },
     "metadata": {},
     "output_type": "display_data"
    }
   ],
   "source": [
    "from PIL import Image\n",
    "import matplotlib.pyplot as plt\n",
    "\n",
    "sample_class = classes[0]\n",
    "sample_image_path = os.path.join(dataset_path, sample_class, os.listdir(os.path.join(dataset_path, sample_class))[0])\n",
    "\n",
    "img = Image.open(sample_image_path)\n",
    "plt.imshow(img)\n",
    "plt.title(f\"Sample from {sample_class}\")\n",
    "plt.axis('off')\n",
    "plt.show()"
   ]
  },
  {
   "cell_type": "code",
   "execution_count": null,
   "id": "9993f6a3-6586-4607-8c95-a50e552e087b",
   "metadata": {},
   "outputs": [],
   "source": []
  }
 ],
 "metadata": {
  "kernelspec": {
   "display_name": "Python 3 (ipykernel)",
   "language": "python",
   "name": "python3"
  },
  "language_info": {
   "codemirror_mode": {
    "name": "ipython",
    "version": 3
   },
   "file_extension": ".py",
   "mimetype": "text/x-python",
   "name": "python",
   "nbconvert_exporter": "python",
   "pygments_lexer": "ipython3",
   "version": "3.8.20"
  }
 },
 "nbformat": 4,
 "nbformat_minor": 5
}
